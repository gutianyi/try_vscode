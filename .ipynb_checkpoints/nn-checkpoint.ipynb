{
 "cells": [
  {
   "cell_type": "code",
   "execution_count": 3,
   "metadata": {},
   "outputs": [],
   "source": [
    "import pandas as pd\n",
    "import numpy as np\n",
    "import matplotlib.pyplot as plt\n",
    "from sklearn.model_selection import train_test_split\n",
    "from sklearn.model_selection import cross_val_score\n",
    "from sklearn.metrics import mean_squared_error\n",
    "import torch\n",
    "import torch.nn.functional as F\n",
    "\n",
    "dataset = pd.read_csv('/Users/elvis/ITProjects/GitHub/jupyterPY/try_vscode/raw_price_train/1_r_price_train.csv')"
   ]
  },
  {
   "cell_type": "markdown",
   "metadata": {},
   "source": [
    "## 数据预处理"
   ]
  },
  {
   "cell_type": "code",
   "execution_count": 4,
   "metadata": {},
   "outputs": [],
   "source": [
    "def preprocess(data,m):\n",
    "    '''\n",
    "    data: the dataframe of stock price\n",
    "    m: the length of sequence\n",
    "    '''\n",
    "    adj_close = data[\"Adj Close\"].tolist()\n",
    "    #\n",
    "    res_X = []\n",
    "    res_y = []\n",
    "    # 剔除前4个元素\n",
    "    for i in range(4,len(adj_close)-m):\n",
    "        res_X.append(adj_close[i:i+m])\n",
    "        res_y.append(adj_close[i+m])\n",
    "    return res_X,res_y"
   ]
  },
  {
   "cell_type": "markdown",
   "metadata": {},
   "source": [
    "## 建立浅神经网络model"
   ]
  },
  {
   "cell_type": "code",
   "execution_count": 5,
   "metadata": {},
   "outputs": [],
   "source": [
    "class model_nn(torch.nn.Module):\n",
    "    # Net类的初始化函数\n",
    "    def __init__(self, n_feature, n_hidden, n_output):\n",
    "        # 继承父类的初始化函数\n",
    "        super(model_nn, self).__init__()\n",
    "        # 网络的隐藏层创建，名称可以随便起\n",
    "        self.hidden_layer = torch.nn.Linear(n_feature, n_hidden)\n",
    "        # 输出层(预测层)创建，接收来自隐含层的数据\n",
    "        self.predict_layer = torch.nn.Linear(n_hidden, n_output)\n",
    "\n",
    "     # 网络的前向传播函数，构造计算图\n",
    "    def forward(self, x):\n",
    "        # 用relu函数处理隐含层输出的结果并传给输出层\n",
    "        hidden_result = self.hidden_layer(x)\n",
    "        relu_result = F.relu(hidden_result)\n",
    "        predict_result = self.predict_layer(relu_result)\n",
    "        return predict_result"
   ]
  },
  {
   "cell_type": "code",
   "execution_count": 6,
   "metadata": {},
   "outputs": [],
   "source": [
    "# 训练次数\n",
    "TRAIN_TIMES = 1000\n",
    "# 输入输出的数据维度\n",
    "INPUT_FEATURE_DIM = 5\n",
    "OUTPUT_FEATURE_DIM = 1\n",
    "# 隐含层中神经元的个数\n",
    "NEURON_NUM = 5\n",
    "# 学习率，越大学的越快，但也容易造成不稳定，准确率上下波动的情况\n",
    "LEARNING_RATE = 0.1"
   ]
  },
  {
   "cell_type": "code",
   "execution_count": 7,
   "metadata": {},
   "outputs": [],
   "source": [
    "def run_nn():\n",
    "    ## 建立x，y\n",
    "    x_data,y_data = preprocess(dataset,INPUT_FEATURE_DIM)\n",
    "    x_data = torch.from_numpy(np.array(x_data))\n",
    "    y_data = torch.from_numpy(np.array(y_data))\n",
    "    # 建立网络\n",
    "    net = model_nn(n_feature=INPUT_FEATURE_DIM, n_hidden=NEURON_NUM, n_output=OUTPUT_FEATURE_DIM)\n",
    "    # print(net)\n",
    "    # 训练网络\n",
    "    # 这里也可以使用其它的优化方法\n",
    "    optimizer = torch.optim.Adam(net.parameters(), lr=LEARNING_RATE)\n",
    "    # 定义一个误差计算方法\n",
    "    loss_func = torch.nn.MSELoss()\n",
    "    for i in range(TRAIN_TIMES):\n",
    "        # 输入数据进行预测\n",
    "        prediction = net(x_data.float())\n",
    "        # 计算预测值与真值误差，注意参数顺序问题\n",
    "        # 第一个参数为预测值，第二个为真值\n",
    "        loss = loss_func(prediction, torch.unsqueeze(y_data, dim=1).float())\n",
    "        if(i == TRAIN_TIMES - 1):\n",
    "            print(\"NEURON_NUM: %d\" %NEURON_NUM)\n",
    "            print(loss)\n",
    "        # 开始优化步骤\n",
    "        # 每次开始优化前将梯度置为0\n",
    "        optimizer.zero_grad()\n",
    "        # 误差反向传播\n",
    "        loss.backward()\n",
    "        # 按照最小loss优化参数\n",
    "        optimizer.step()\n"
   ]
  },
  {
   "cell_type": "code",
   "execution_count": null,
   "metadata": {},
   "outputs": [
    {
     "name": "stdout",
     "output_type": "stream",
     "text": [
      "NEURON_NUM: 6\n",
      "tensor(2.6373, grad_fn=<MseLossBackward>)\n",
      "NEURON_NUM: 7\n",
      "tensor(2.4969, grad_fn=<MseLossBackward>)\n",
      "NEURON_NUM: 8\n",
      "tensor(3.0056, grad_fn=<MseLossBackward>)\n",
      "NEURON_NUM: 9\n",
      "tensor(2.8282, grad_fn=<MseLossBackward>)\n",
      "NEURON_NUM: 10\n",
      "tensor(3.1209, grad_fn=<MseLossBackward>)\n",
      "NEURON_NUM: 11\n",
      "tensor(3.2652, grad_fn=<MseLossBackward>)\n",
      "NEURON_NUM: 12\n",
      "tensor(2.8727, grad_fn=<MseLossBackward>)\n",
      "NEURON_NUM: 13\n",
      "tensor(3.4222, grad_fn=<MseLossBackward>)\n",
      "NEURON_NUM: 14\n",
      "tensor(2.9035, grad_fn=<MseLossBackward>)\n",
      "NEURON_NUM: 15\n",
      "tensor(2.3864, grad_fn=<MseLossBackward>)\n",
      "NEURON_NUM: 16\n",
      "tensor(2.6553, grad_fn=<MseLossBackward>)\n",
      "NEURON_NUM: 17\n",
      "tensor(3.1743, grad_fn=<MseLossBackward>)\n",
      "NEURON_NUM: 18\n",
      "tensor(2.5226, grad_fn=<MseLossBackward>)\n"
     ]
    }
   ],
   "source": [
    "for i in range(30):\n",
    "    NEURON_NUM = NEURON_NUM + 1\n",
    "    run_nn()"
   ]
  },
  {
   "cell_type": "code",
   "execution_count": null,
   "metadata": {},
   "outputs": [],
   "source": []
  },
  {
   "cell_type": "code",
   "execution_count": null,
   "metadata": {},
   "outputs": [],
   "source": []
  }
 ],
 "metadata": {
  "file_extension": ".py",
  "kernelspec": {
   "display_name": "Python 3",
   "language": "python",
   "name": "python3"
  },
  "language_info": {
   "codemirror_mode": {
    "name": "ipython",
    "version": 3
   },
   "file_extension": ".py",
   "mimetype": "text/x-python",
   "name": "python",
   "nbconvert_exporter": "python",
   "pygments_lexer": "ipython3",
   "version": "3.7.3"
  },
  "mimetype": "text/x-python",
  "name": "python",
  "npconvert_exporter": "python",
  "pygments_lexer": "ipython3",
  "version": 3
 },
 "nbformat": 4,
 "nbformat_minor": 4
}
